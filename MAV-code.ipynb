{
 "cells": [
  {
   "cell_type": "markdown",
   "metadata": {
    "id": "bf5RrhNaDejC"
   },
   "source": [
    "#### CONDICTION MONITORING OF SINGLE PHASE INDUCTION MOTOR USING MOTION AMPLIFICATION OF VIDEO"
   ]
  },
  {
   "cell_type": "markdown",
   "metadata": {
    "id": "Z7Ghq0laIGq4"
   },
   "source": [
    "#### Preparations:\n"
   ]
  },
  {
   "cell_type": "code",
   "execution_count": null,
   "metadata": {
    "colab": {
     "base_uri": "https://localhost:8080/"
    },
    "id": "nI-Hq9WK5xNg",
    "outputId": "4c55ba46-ee51-4752-8dd1-deab4ffe704e"
   },
   "outputs": [],
   "source": [
    "!pip install --quiet -r requirements.txt\n",
    "!pip install --quiet gdown mediapy"
   ]
  },
  {
   "cell_type": "markdown",
   "metadata": {
    "id": "nhA7-odZEHQW"
   },
   "source": [
    "#### Download and load the well-trained weights:"
   ]
  },
  {
   "cell_type": "code",
   "execution_count": null,
   "metadata": {
    "colab": {
     "base_uri": "https://localhost:8080/"
    },
    "id": "FUX3pb77Axr0",
    "outputId": "11164c11-73dc-4418-8248-dfb9ab66d535"
   },
   "outputs": [],
   "source": [
    "!wget https://github.com/ZhengPeng7/motion_magnification_learning-based/releases/download/v1.0/magnet_epoch12_loss7.28e-02.pth"
   ]
  },
  {
   "cell_type": "code",
   "execution_count": null,
   "metadata": {
    "colab": {
     "base_uri": "https://localhost:8080/"
    },
    "id": "quAf0VARHAPM",
    "outputId": "7eb23fde-56e9-4797-dd0a-091b559aaec8"
   },
   "outputs": [],
   "source": [
    "from magnet import MagNet\n",
    "from callbacks import gen_state_dict\n",
    "from config import Config\n",
    "\n",
    "\n",
    "# config\n",
    "config = Config()\n",
    "# Load weights\n",
    "weights_path = 'magnet_epoch12_loss7.28e-02.pth'\n",
    "ep = int(weights_path.split('epoch')[-1].split('_')[0])\n",
    "state_dict = gen_state_dict(weights_path)\n",
    "\n",
    "model_test = MagNet().cuda()\n",
    "model_test.load_state_dict(state_dict)\n",
    "model_test.eval()\n",
    "print(\"Loading weights:\", weights_path)"
   ]
  },
  {
   "cell_type": "markdown",
   "metadata": {
    "id": "_AM4n9P-iaNG"
   },
   "source": [
    "#### Preprocessing"
   ]
  },
  {
   "cell_type": "code",
   "execution_count": null,
   "metadata": {
    "colab": {
     "base_uri": "https://localhost:8080/"
    },
    "id": "I0v0Uacfmtib",
    "outputId": "01383531-8a69-42f5-8b7c-a280acff41c8"
   },
   "outputs": [],
   "source": [
    "# Turn the video into frames and make them into frame_ACB format.\n",
    "file_to_be_maged = 'motor.avi'\n",
    "video_name = file_to_be_maged.split('.')[0]\n",
    "video_format = '.' + file_to_be_maged.split('.')[-1]\n",
    "\n",
    "\n",
    "sh_file = 'VIDEO_NAME={}\\nVIDEO_FORMAT={}'.format(video_name, video_format) + \"\"\"\n",
    "\n",
    "\n",
    "mkdir ${VIDEO_NAME}\n",
    "ffmpeg -i ${VIDEO_NAME}${VIDEO_FORMAT} -f image2 ${VIDEO_NAME}/%06d.png\n",
    "python make_frameACB.py ${VIDEO_NAME}\n",
    "mkdir test_dir\n",
    "mv ${VIDEO_NAME} test_dir\n",
    "\"\"\"\n",
    "with open('test_preproc.sh', 'w') as file:\n",
    "  file.write(sh_file)\n",
    "\n",
    "!bash test_preproc.sh"
   ]
  },
  {
   "cell_type": "code",
   "execution_count": null,
   "metadata": {
    "colab": {
     "base_uri": "https://localhost:8080/"
    },
    "id": "RXz3mYanz07-",
    "outputId": "9d526b43-6f76-404c-fa91-235ea6b5ee72"
   },
   "outputs": [],
   "source": [
    "import os\n",
    "import sys\n",
    "import cv2\n",
    "import torch\n",
    "import numpy as np\n",
    "from data import get_gen_ABC, unit_postprocessing, numpy2cuda, resize2d\n",
    "\n",
    "\n",
    "\n",
    "for testset in [video_name]:\n",
    "    dir_results = 'res_' + testset\n",
    "    if not os.path.exists(dir_results):\n",
    "        os.makedirs(dir_results)\n",
    "\n",
    "    config.data_dir = 'test_dir'\n",
    "    data_loader = get_gen_ABC(config, mode='test_on_'+testset)\n",
    "    print('Number of test image couples:', data_loader.data_len)\n",
    "    vid_size = cv2.imread(data_loader.paths[0]).shape[:2][::-1]\n",
    "\n",
    "    # Test\n",
    "    for amp in [10, 25, 50]:\n",
    "        frames = []\n",
    "        data_loader = get_gen_ABC(config, mode='test_on_'+testset)\n",
    "        for idx_load in range(0, data_loader.data_len, data_loader.batch_size):\n",
    "            if (idx_load+1) % 100 == 0:\n",
    "                print('{}'.format(idx_load+1), end=', ')\n",
    "            batch_A, batch_B = data_loader.gen_test()\n",
    "            amp_factor = numpy2cuda(amp)\n",
    "            for _ in range(len(batch_A.shape) - len(amp_factor.shape)):\n",
    "                amp_factor = amp_factor.unsqueeze(-1)\n",
    "            with torch.no_grad():\n",
    "                y_hats = model_test(batch_A, batch_B, 0, 0, amp_factor, mode='evaluate')\n",
    "            for y_hat in y_hats:\n",
    "                y_hat = unit_postprocessing(y_hat, vid_size=vid_size)\n",
    "                frames.append(y_hat)\n",
    "                if len(frames) >= data_loader.data_len:\n",
    "                    break\n",
    "            if len(frames) >= data_loader.data_len:\n",
    "                break\n",
    "        data_loader = get_gen_ABC(config, mode='test_on_'+testset)\n",
    "        frames = [unit_postprocessing(data_loader.gen_test()[0], vid_size=vid_size)] + frames\n",
    "\n",
    "        # Make videos of framesMag\n",
    "        video_dir = os.path.join(dir_results, testset)\n",
    "        if not os.path.exists(video_dir):\n",
    "            os.makedirs(video_dir)\n",
    "        FPS = 30\n",
    "        video_save_path = os.path.join(video_dir, '{}_amp{}{}'.format(testset, amp, video_format))\n",
    "        out = cv2.VideoWriter(\n",
    "            video_save_path,\n",
    "            cv2.VideoWriter_fourcc(*'DIVX'),\n",
    "            FPS, frames[0].shape[-2::-1]\n",
    "        )\n",
    "        for frame in frames:\n",
    "            frame = cv2.cvtColor(frame, cv2.COLOR_RGB2BGR)\n",
    "            cv2.putText(frame, 'amp_factor={}'.format(amp), (7, 37),\n",
    "                        fontFace=cv2.FONT_HERSHEY_SIMPLEX, fontScale=1, color=(0, 0, 255), thickness=2)\n",
    "            out.write(frame)\n",
    "        out.release()\n",
    "        print('{} has been done.'.format(video_save_path))"
   ]
  },
  {
   "cell_type": "code",
   "execution_count": null,
   "metadata": {},
   "outputs": [],
   "source": []
  }
 ],
 "metadata": {
  "accelerator": "GPU",
  "colab": {
   "provenance": []
  },
  "kernelspec": {
   "display_name": "Python 3 (ipykernel)",
   "language": "python",
   "name": "python3"
  },
  "language_info": {
   "codemirror_mode": {
    "name": "ipython",
    "version": 3
   },
   "file_extension": ".py",
   "mimetype": "text/x-python",
   "name": "python",
   "nbconvert_exporter": "python",
   "pygments_lexer": "ipython3",
   "version": "3.10.13"
  }
 },
 "nbformat": 4,
 "nbformat_minor": 4
}
